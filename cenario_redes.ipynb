{
 "cells": [
  {
   "cell_type": "markdown",
   "metadata": {},
   "source": [
    "# Modelando cenário de redes de comp. usando Simulação de Monte Carlo!"
   ]
  },
  {
   "cell_type": "code",
   "execution_count": 1,
   "metadata": {},
   "outputs": [],
   "source": [
    "import numpy as np\n",
    "from random import random\n",
    "from math import pi\n",
    "from matplotlib import pyplot as plt"
   ]
  },
  {
   "cell_type": "code",
   "execution_count": 2,
   "metadata": {},
   "outputs": [],
   "source": [
    "def plt_simul(qtd_sim, qtd_acertos):\n",
    "    plt.figure()\n",
    "    plt.scatter(range(1, qtd_sim + 1), qtd_acertos)\n",
    "    max_x = plt.xlim()[1]\n",
    "    plt.hlines(0.5, 0, max_x, color='black')\n",
    "    plt.xlim(0, max_x)\n",
    "    plt.title(\"Prob. # acertos par\")\n",
    "    plt.xlabel(\"Simulação\")\n",
    "    plt.ylabel(\"Prob. # acertos par\")\n",
    "    plt.show()\n",
    "\n",
    "def simular(qtd_total, prob_acerto):\n",
    "    envios = np.array([random() for _ in range(qtd_total)])\n",
    "    \n",
    "    qtd_acertos = (envios <= prob_acerto).sum()\n",
    "\n",
    "    return qtd_acertos"
   ]
  },
  {
   "cell_type": "markdown",
   "metadata": {},
   "source": [
    "## Simulações"
   ]
  },
  {
   "cell_type": "code",
   "execution_count": 3,
   "metadata": {},
   "outputs": [],
   "source": [
    "qtd_total   = 100\n",
    "prob_acerto = 0.9\n",
    "qtd_simul   = 10000\n",
    "\n",
    "simulacoes = np.array([simular(qtd_total, prob_acerto) for _ in range(qtd_simul)])"
   ]
  },
  {
   "cell_type": "markdown",
   "metadata": {},
   "source": [
    "Qual a probabilidade de ter um número par de acertos?"
   ]
  },
  {
   "cell_type": "code",
   "execution_count": 4,
   "metadata": {},
   "outputs": [
    {
     "data": {
      "text/plain": [
       "0.5042"
      ]
     },
     "execution_count": 4,
     "metadata": {},
     "output_type": "execute_result"
    }
   ],
   "source": [
    "def prob_par(simulacoes):\n",
    "    simulacoes_pares = ( (simulacoes % 2) == 0 ).sum()\n",
    "\n",
    "    return simulacoes_pares / len(simulacoes)\n",
    "\n",
    "prob_par(simulacoes)"
   ]
  },
  {
   "cell_type": "markdown",
   "metadata": {},
   "source": [
    "Tendência do número par de acertos em relação ao crescimento da quantidade de simulações"
   ]
  },
  {
   "cell_type": "code",
   "execution_count": 5,
   "metadata": {},
   "outputs": [],
   "source": [
    "resultados = []\n",
    "\n",
    "for i in range(1, qtd_simul, 5):\n",
    "    simulacoes = np.array([simular(qtd_total, prob_acerto) for _ in range(i)])\n",
    "    resultados.append(prob_par(simulacoes))"
   ]
  },
  {
   "cell_type": "code",
   "execution_count": 6,
   "metadata": {},
   "outputs": [
    {
     "data": {
      "image/png": "[encoded data removed]",
      "text/plain": [
       "<matplotlib.figure.Figure at 0x7fe5d65d6470>"
      ]
     },
     "metadata": {},
     "output_type": "display_data"
    }
   ],
   "source": [
    "plt_simul(len(resultados), resultados)"
   ]
  },
  {
   "cell_type": "code",
   "execution_count": 7,
   "metadata": {},
   "outputs": [
    {
     "data": {
      "image/png": "[encoded data removed]",
      "text/plain": [
       "<matplotlib.figure.Figure at 0x7fe5d65d64a8>"
      ]
     },
     "metadata": {},
     "output_type": "display_data"
    }
   ],
   "source": [
    "hist = plt.hist(resultados, 100)\n",
    "plt.show()"
   ]
  },
  {
   "cell_type": "markdown",
   "metadata": {},
   "source": [
    "Qual é o valor esperado do número de acertos?"
   ]
  },
  {
   "cell_type": "code",
   "execution_count": 8,
   "metadata": {},
   "outputs": [
    {
     "data": {
      "text/plain": [
       "89.93867547018807"
      ]
     },
     "execution_count": 8,
     "metadata": {},
     "output_type": "execute_result"
    }
   ],
   "source": [
    "valor_esperado = simulacoes.sum()/len(simulacoes)\n",
    "valor_esperado"
   ]
  },
  {
   "cell_type": "code",
   "execution_count": null,
   "metadata": {},
   "outputs": [],
   "source": []
  }
 ],
 "metadata": {
  "kernelspec": {
   "display_name": "Python 3",
   "language": "python",
   "name": "python3"
  },
  "language_info": {
   "codemirror_mode": {
    "name": "ipython",
    "version": 3
   },
   "file_extension": ".py",
   "mimetype": "text/x-python",
   "name": "python",
   "nbconvert_exporter": "python",
   "pygments_lexer": "ipython3",
   "version": "3.5.3"
  }
 },
 "nbformat": 4,
 "nbformat_minor": 2
}
